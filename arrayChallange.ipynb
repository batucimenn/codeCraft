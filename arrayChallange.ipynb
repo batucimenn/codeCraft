{
 "cells": [
  {
   "cell_type": "code",
   "execution_count": null,
   "metadata": {},
   "outputs": [],
   "source": [
    "Array challange"
   ]
  },
  {
   "cell_type": "code",
   "execution_count": 9,
   "metadata": {},
   "outputs": [],
   "source": [
    "def ArrayChallenge(arr):\n",
    "\n",
    "    arr.sort()\n",
    "\n",
    "    index0 = arr[-5]\n",
    "    index1 = arr[-4]\n",
    "    index2 = arr[-3]\n",
    "    index3 = arr[-2]\n",
    "    index4 = arr[-1]\n",
    "\n",
    "    if(index0 + index1 + index2 + index3 == index4):\n",
    "        x = \"true\"\n",
    "    elif(index0 + index1 + index2 == index4):\n",
    "        x = \"true\"\n",
    "    elif(index0 + index1 + index3 == index4):\n",
    "        x = \"true\"\n",
    "    elif(index0 + index2 + index3 == index4):\n",
    "        x = \"true\"\n",
    "    elif(index1 + index2 + index3 == index4):\n",
    "        x = \"true\"\n",
    "    elif(index1 + index2 == index4):\n",
    "        x = \"true\"\n",
    "    elif(index1 + index3 == index4):\n",
    "        x = \"true\"\n",
    "    elif(index2 + index3 == index4):\n",
    "        x = \"true\"\n",
    "    else:\n",
    "        x = \"false\"\n",
    "    return x"
   ]
  },
  {
   "cell_type": "code",
   "execution_count": 10,
   "metadata": {},
   "outputs": [],
   "source": [
    "raw_input = [5,7,16,1,2]"
   ]
  },
  {
   "cell_type": "code",
   "execution_count": 11,
   "metadata": {},
   "outputs": [
    {
     "name": "stdout",
     "output_type": "stream",
     "text": [
      "false\n"
     ]
    }
   ],
   "source": [
    "print(ArrayChallenge(raw_input))"
   ]
  },
  {
   "cell_type": "code",
   "execution_count": null,
   "metadata": {},
   "outputs": [],
   "source": []
  }
 ],
 "metadata": {
  "kernelspec": {
   "display_name": "Python 3",
   "language": "python",
   "name": "python3"
  },
  "language_info": {
   "codemirror_mode": {
    "name": "ipython",
    "version": 3
   },
   "file_extension": ".py",
   "mimetype": "text/x-python",
   "name": "python",
   "nbconvert_exporter": "python",
   "pygments_lexer": "ipython3",
   "version": "3.8.3"
  }
 },
 "nbformat": 4,
 "nbformat_minor": 4
}
