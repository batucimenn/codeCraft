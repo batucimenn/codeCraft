{
 "cells": [
  {
   "cell_type": "markdown",
   "metadata": {},
   "source": [
    "Rock paper scissors console application"
   ]
  },
  {
   "cell_type": "code",
   "execution_count": 1,
   "metadata": {},
   "outputs": [
    {
     "name": "stdout",
     "output_type": "stream",
     "text": [
      "Rock, Paper, Scissors Game \n",
      "--------------------------\n",
      "Your choice (Rock/Paper/Scissors/Quit): Rock\n",
      "-----------------------\n",
      "Computer Choice: Paper - You lose \n",
      "---------------------------------\n",
      "Your choice (Rock/Paper/Scissors/Quit): Rock\n",
      "-----------------------\n",
      "Computer Choice: Rock - Tie \n",
      "---------------------------\n",
      "Your choice (Rock/Paper/Scissors/Quit): Paper\n",
      "-----------------------\n",
      "Computer Choice: Rock - You win \n",
      "-------------------------------\n",
      "Your choice (Rock/Paper/Scissors/Quit): Paper\n",
      "-----------------------\n",
      "Computer Choice: Rock - You win \n",
      "-------------------------------\n",
      "Your choice (Rock/Paper/Scissors/Quit): Scissors\n",
      "-----------------------\n",
      "Computer Choice: Scissors - Tie \n",
      "-------------------------------\n",
      "Your choice (Rock/Paper/Scissors/Quit): Scissors\n",
      "-----------------------\n",
      "Computer Choice: Rock - You lose \n",
      "--------------------------------\n",
      "Your choice (Rock/Paper/Scissors/Quit): Quit\n",
      "-----------------------\n",
      "Player 2  -  2 Computer\n"
     ]
    }
   ],
   "source": [
    "import random\n",
    "import time\n",
    "list1=[\"Rock\",\"Paper\",\"Scissors\"]\n",
    "rock = list1[0]; paper = list1[1]; scissors = list1[2]\n",
    "count = 0\n",
    "comCount = 0\n",
    "print(\"Rock, Paper, Scissors Game \\n--------------------------\")\n",
    "time.sleep(3)\n",
    "while True:\n",
    "    choice = input(\"Your choice (Rock/Paper/Scissors/Quit): \")\n",
    "    print(\"-----------------------\")\n",
    "    comChoice = random.choice(list1)\n",
    "    if choice == rock:\n",
    "        if comChoice == rock:\n",
    "            print(\"Computer Choice: Rock - Tie \\n---------------------------\")\n",
    "        elif comChoice == paper:\n",
    "            print(\"Computer Choice: Paper - You lose \\n---------------------------------\")\n",
    "            comCount += 1\n",
    "        elif comChoice == scissors:\n",
    "            print(\"Computer Choice: Scissors - You win \\n-----------------------------------\") \n",
    "            count += 1\n",
    "    elif choice == paper:\n",
    "        if comChoice == rock:\n",
    "            print(\"Computer Choice: Rock - You win \\n-------------------------------\")\n",
    "            count += 1\n",
    "        elif comChoice == paper:\n",
    "            print(\"Computer Choice: Paper - Tie \\n----------------------------\")\n",
    "        elif comChoice == scissors:\n",
    "            print(\"Computer Choice: Scissors - You lose \\n------------------------------------\")\n",
    "            comCount += 1\n",
    "    elif choice == scissors:\n",
    "        if comChoice == rock:\n",
    "            print(\"Computer Choice: Rock - You lose \\n--------------------------------\")\n",
    "            comCount += 1\n",
    "        elif comChoice == paper:\n",
    "            print(\"Computer Choice: Paper - You win \\n--------------------------------\")\n",
    "            count += 1\n",
    "        elif comChoice == scissors:\n",
    "            print(\"Computer Choice: Scissors - Tie \\n-------------------------------\")\n",
    "    elif choice == \"Quit\":\n",
    "        print(\"Player\", count, \" - \", comCount, \"Computer\" )\n",
    "        time.sleep(3)\n",
    "        break\n",
    "    else:\n",
    "        print(\"Error! (Must be 'Rock', 'Paper', 'Scissors', 'Quit') \\n---------------------------------------------------\")"
   ]
  },
  {
   "cell_type": "code",
   "execution_count": null,
   "metadata": {},
   "outputs": [],
   "source": []
  }
 ],
 "metadata": {
  "kernelspec": {
   "display_name": "Python 3",
   "language": "python",
   "name": "python3"
  },
  "language_info": {
   "codemirror_mode": {
    "name": "ipython",
    "version": 3
   },
   "file_extension": ".py",
   "mimetype": "text/x-python",
   "name": "python",
   "nbconvert_exporter": "python",
   "pygments_lexer": "ipython3",
   "version": "3.8.3"
  }
 },
 "nbformat": 4,
 "nbformat_minor": 4
}
