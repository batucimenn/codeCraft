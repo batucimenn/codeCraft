{
 "cells": [
  {
   "cell_type": "markdown",
   "metadata": {},
   "source": [
    "Write a schedule to request a score between 0.0 and 1.0. If the score is out of range, print an error. If the score is between 0.0 and 1.0, print a letter grade using the table below:\n",
    "\n",
    "Score Note\n",
    "\n",
    "\\>= 0.9 A\n",
    "  \n",
    "\\>= 0.8 B\n",
    "\n",
    "\\>= 0.7 C\n",
    "\n",
    "\\>= 0.6 D\n",
    "\n",
    "\\< 0.6 F\n",
    "\n",
    "If the user enters a value out of range, the appropriate error message and exit (quit ()). You can enter 0.85 points for the test."
   ]
  },
  {
   "cell_type": "code",
   "execution_count": 1,
   "metadata": {},
   "outputs": [
    {
     "name": "stdout",
     "output_type": "stream",
     "text": [
      "Score: 0.85\n"
     ]
    }
   ],
   "source": [
    "score = float(input(\"Score: \"))"
   ]
  },
  {
   "cell_type": "code",
   "execution_count": 2,
   "metadata": {},
   "outputs": [
    {
     "name": "stdout",
     "output_type": "stream",
     "text": [
      "B\n"
     ]
    }
   ],
   "source": [
    "if 0 <= score <=1.0:\n",
    "    if score >= 0.9:\n",
    "        print('A')\n",
    "    elif score >= 0.8:\n",
    "        print('B')\n",
    "    elif score >= 0.7:\n",
    "        print('C')\n",
    "    elif score >= 0.6:\n",
    "        print('D')\n",
    "    elif score < 0.6:\n",
    "        print('F')\n",
    "else:\n",
    "    print('Entered wrong, try again.')\n",
    "quit()"
   ]
  },
  {
   "cell_type": "code",
   "execution_count": null,
   "metadata": {},
   "outputs": [],
   "source": []
  }
 ],
 "metadata": {
  "kernelspec": {
   "display_name": "Python 3",
   "language": "python",
   "name": "python3"
  },
  "language_info": {
   "codemirror_mode": {
    "name": "ipython",
    "version": 3
   },
   "file_extension": ".py",
   "mimetype": "text/x-python",
   "name": "python",
   "nbconvert_exporter": "python",
   "pygments_lexer": "ipython3",
   "version": "3.8.3"
  }
 },
 "nbformat": 4,
 "nbformat_minor": 4
}
