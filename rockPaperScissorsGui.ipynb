{
 "cells": [
  {
   "cell_type": "markdown",
   "metadata": {},
   "source": [
    "Rock paper scissors GUI application"
   ]
  },
  {
   "cell_type": "code",
   "execution_count": 1,
   "metadata": {},
   "outputs": [
    {
     "name": "stdout",
     "output_type": "stream",
     "text": [
      "Rock, Paper, Scissors Game \n",
      "--------------------------\n",
      "Computer Choice: Paper - You lose \n",
      "---------------------------------\n",
      "Computer Choice: Rock - Tie \n",
      "---------------------------\n",
      "Computer Choice: Rock - You win \n",
      "-------------------------------\n",
      "Computer Choice: Paper - Tie \n",
      "----------------------------\n",
      "Computer Choice: Rock - You lose \n",
      "--------------------------------\n",
      "Computer Choice: Rock - You lose \n",
      "--------------------------------\n"
     ]
    }
   ],
   "source": [
    "import PySimpleGUI as psg      \n",
    "import random\n",
    "psg.theme(\"DarkGrey7\")\n",
    "list1=[\"Rock\",\"Paper\",\"Scissors\"]\n",
    "rock=list1[0]; paper=list1[1]; scissors=list1[2]\n",
    "print(\"Rock, Paper, Scissors Game \\n--------------------------\")\n",
    "def button1():\n",
    "    comChoice = random.choice(list1)\n",
    "    choice = rock\n",
    "    if comChoice == rock:\n",
    "        print(\"Computer Choice: Rock - Tie \\n---------------------------\")\n",
    "    elif comChoice == paper:\n",
    "        print(\"Computer Choice: Paper - You lose \\n---------------------------------\")\n",
    "    elif comChoice == scissors:\n",
    "        print(\"Computer Choice: Scissors - You win \\n-----------------------------------\") \n",
    "def button2():\n",
    "    comChoice = random.choice(list1)\n",
    "    choice = paper\n",
    "    if comChoice == rock:\n",
    "        print(\"Computer Choice: Rock - You win \\n-------------------------------\")\n",
    "    elif comChoice == paper:\n",
    "        print(\"Computer Choice: Paper - Tie \\n----------------------------\")\n",
    "    elif comChoice == scissors:\n",
    "        print(\"Computer Choice: Scissors - You lose \\n------------------------------------\")\n",
    "def button3():\n",
    "    comChoice = random.choice(list1)\n",
    "    choice = scissors\n",
    "    if comChoice == rock:\n",
    "        print(\"Computer Choice: Rock - You lose \\n--------------------------------\")\n",
    "    elif comChoice == paper:\n",
    "        print(\"Computer Choice: Paper - You win \\n------------------------------\")\n",
    "    elif comChoice == scissors:\n",
    "        print(\"Computer Choice: Scissors - Tie \\n-------------------------------\")\n",
    "dispatch_dictioanary = { \"Rock\": button1, \"Paper\": button2, \"Scissors\": button3 }\n",
    "layout = [ [psg.Text(\"----------------------------------------------------\", auto_size_text=True)], [psg.Button(\"Rock\"), psg.Button(\"Paper\"), psg.Button(\"Scissors\"), psg.Quit()], [psg.Text(\"----------------------------------------------------\", auto_size_text=True)] ]\n",
    "window = psg.Window(\"forTeam\", layout, size=(250,100))\n",
    "while True:\n",
    "    event, values = window.read()\n",
    "    if event in (None, \"Quit\"):\n",
    "        break        \n",
    "    if event in dispatch_dictioanary:\n",
    "        func_to_call = dispatch_dictioanary[event]\n",
    "        func_to_call()        \n",
    "    else:\n",
    "        print(\"Error! \\n------\".format(event))\n",
    "window.close()"
   ]
  },
  {
   "cell_type": "code",
   "execution_count": null,
   "metadata": {},
   "outputs": [],
   "source": []
  }
 ],
 "metadata": {
  "kernelspec": {
   "display_name": "Python 3",
   "language": "python",
   "name": "python3"
  },
  "language_info": {
   "codemirror_mode": {
    "name": "ipython",
    "version": 3
   },
   "file_extension": ".py",
   "mimetype": "text/x-python",
   "name": "python",
   "nbconvert_exporter": "python",
   "pygments_lexer": "ipython3",
   "version": "3.8.3"
  }
 },
 "nbformat": 4,
 "nbformat_minor": 4
}
