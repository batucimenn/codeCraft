{
 "cells": [
  {
   "cell_type": "markdown",
   "metadata": {},
   "source": [
    "Write a program that constantly prompts a user for integer numbers until the user enters the 'done' statement. After 'done' is entered, print out the largest and smallest of the numbers. If the user enters something other than a valid number, catch it with the help of a try / except and print a suitable message."
   ]
  },
  {
   "cell_type": "code",
   "execution_count": 1,
   "metadata": {
    "scrolled": true
   },
   "outputs": [
    {
     "name": "stdout",
     "output_type": "stream",
     "text": [
      "Enter value: 2\n",
      "Enter value: 1\n",
      "Enter value: 3\n",
      "Enter value: 4\n",
      "Enter value: 2\n",
      "Enter value: done\n",
      "-------------\n",
      "Max value:  4\n",
      "Min value:  1\n"
     ]
    }
   ],
   "source": [
    "i = 1\n",
    "while True:    \n",
    "    num = input(\"Enter value: \")     \n",
    "    if num == \"done\":  \n",
    "        print(\"-------------\")\n",
    "        print(\"Max value: \", largest)\n",
    "        print(\"Min value: \", smallest)\n",
    "        break     \n",
    "    try:\n",
    "        intnum = int(num)\n",
    "        if i == 1:       \n",
    "            largest = intnum\n",
    "            smallest = intnum \n",
    "            i += 1\n",
    "        else:            \n",
    "            if intnum > largest:\n",
    "                largest = intnum                \n",
    "            elif intnum < smallest:\n",
    "                smallest = intnum                    \n",
    "    except:\n",
    "        print(\"Try again.\")"
   ]
  },
  {
   "cell_type": "code",
   "execution_count": null,
   "metadata": {},
   "outputs": [],
   "source": []
  }
 ],
 "metadata": {
  "kernelspec": {
   "display_name": "Python 3",
   "language": "python",
   "name": "python3"
  },
  "language_info": {
   "codemirror_mode": {
    "name": "ipython",
    "version": 3
   },
   "file_extension": ".py",
   "mimetype": "text/x-python",
   "name": "python",
   "nbconvert_exporter": "python",
   "pygments_lexer": "ipython3",
   "version": "3.8.3"
  }
 },
 "nbformat": 4,
 "nbformat_minor": 4
}
