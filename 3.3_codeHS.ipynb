{
 "cells": [
  {
   "cell_type": "markdown",
   "metadata": {},
   "source": [
    "Write a program that asks for a filename, then opens that file and reads inside the file by searching for lines of the file:\n",
    "\n",
    "X-DSPAM-Confidence: 0.8475\n",
    "Count all rows and keep the Float values ​​you find. Then calculate the mean of these values. Then create a printout as shown below. Do not use the function sum () or a variable named sum in your solution.\n",
    "\n",
    "\n",
    "\n",
    "Desired Output:\n",
    "\n",
    "Average X-DSPAM-Confidence: 0.7507185185185187"
   ]
  },
  {
   "cell_type": "code",
   "execution_count": null,
   "metadata": {},
   "outputs": [],
   "source": [
    "totalValue=0\n",
    "counter=0\n",
    "fname = \"mbox-short.txt\"\n",
    "fh = open(fname)\n",
    "for line in fh:\n",
    "    if not line.startswith(\"X-DSPAM-Confidence:\") : continue\n",
    "    print(line)\n",
    "    totalValue += float(line[line.find('0') + 0:])\n",
    "    counter += 1\n",
    "print(\"Average X-DSPAM-Confidence:\", totalValue/counter)"
   ]
  },
  {
   "cell_type": "code",
   "execution_count": null,
   "metadata": {},
   "outputs": [],
   "source": []
  }
 ],
 "metadata": {
  "kernelspec": {
   "display_name": "Python 3",
   "language": "python",
   "name": "python3"
  },
  "language_info": {
   "codemirror_mode": {
    "name": "ipython",
    "version": 3
   },
   "file_extension": ".py",
   "mimetype": "text/x-python",
   "name": "python",
   "nbconvert_exporter": "python",
   "pygments_lexer": "ipython3",
   "version": "3.8.3"
  }
 },
 "nbformat": 4,
 "nbformat_minor": 4
}
