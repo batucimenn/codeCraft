{
 "cells": [
  {
   "cell_type": "markdown",
   "metadata": {},
   "source": [
    "Write a schedule to read the mbox-short.txt file and calculate the distribution by time of day for each message. You can subtract the time from the 'From' line by finding the time and then dividing the string a second time using a colon.\n",
    "\n",
    "Posted by stephen.marquard@uct.ac.za Sat 5 Jan 09:14:16 2008\n",
    "After you have accumulated the numbers for each hour, print the counts sorted by the hour as shown below."
   ]
  },
  {
   "cell_type": "code",
   "execution_count": 1,
   "metadata": {},
   "outputs": [
    {
     "name": "stdout",
     "output_type": "stream",
     "text": [
      "Enter file:\n",
      "04 3\n",
      "06 1\n",
      "07 1\n",
      "09 2\n",
      "10 3\n",
      "11 6\n",
      "14 1\n",
      "15 2\n",
      "16 4\n",
      "17 2\n",
      "18 1\n",
      "19 1\n"
     ]
    }
   ],
   "source": [
    "name = input(\"Enter file:\")\n",
    "if len(name) < 1 : \n",
    "    name = \"mbox-short2.txt\"\n",
    "handle = open(name)\n",
    "hourCounter={}\n",
    "for line in handle :\n",
    "    line=line.rstrip()\n",
    "    if not line.startswith(\"From \") : continue\n",
    "    words=line.split()\n",
    "    time=words[5]\n",
    "    hours=time[:2]\n",
    "    hourCounter[hours]=hourCounter.get(hours,0)+1\n",
    "for hour,count in sorted (hourCounter.items()) :\n",
    "    print(hour,count)"
   ]
  },
  {
   "cell_type": "code",
   "execution_count": null,
   "metadata": {},
   "outputs": [],
   "source": []
  }
 ],
 "metadata": {
  "kernelspec": {
   "display_name": "Python 3",
   "language": "python",
   "name": "python3"
  },
  "language_info": {
   "codemirror_mode": {
    "name": "ipython",
    "version": 3
   },
   "file_extension": ".py",
   "mimetype": "text/x-python",
   "name": "python",
   "nbconvert_exporter": "python",
   "pygments_lexer": "ipython3",
   "version": "3.8.3"
  }
 },
 "nbformat": 4,
 "nbformat_minor": 4
}
