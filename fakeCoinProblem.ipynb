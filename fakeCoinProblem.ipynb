{
 "cells": [
  {
   "cell_type": "markdown",
   "metadata": {},
   "source": [
    "Fake coin problem algorithm "
   ]
  },
  {
   "cell_type": "code",
   "execution_count": 1,
   "metadata": {},
   "outputs": [],
   "source": [
    "import random"
   ]
  },
  {
   "cell_type": "code",
   "execution_count": 2,
   "metadata": {},
   "outputs": [],
   "source": [
    "c1 = 1; c2 = 1; c3 = 1; c4 = 1; c5 = 1; c6 = 1; c7 = 1; c8 = 1; c9 = 1; c10 = 1; c11 = 1\n",
    "c12 = 2"
   ]
  },
  {
   "cell_type": "code",
   "execution_count": 3,
   "metadata": {},
   "outputs": [],
   "source": [
    "coin = [c1, c2, c3, c4, c5, c6, c7, c8, c9, c10, c11, c12]\n",
    "random.shuffle(coin)"
   ]
  },
  {
   "cell_type": "code",
   "execution_count": 4,
   "metadata": {},
   "outputs": [],
   "source": [
    "cluster1 = coin[0:4]\n",
    "cluster2 = coin[4:8]\n",
    "cluster3 = coin[8:12]"
   ]
  },
  {
   "cell_type": "code",
   "execution_count": 5,
   "metadata": {},
   "outputs": [
    {
     "name": "stdout",
     "output_type": "stream",
     "text": [
      "[1, 1, 2, 1] [1, 1, 1, 1] [1, 1, 1, 1]\n"
     ]
    }
   ],
   "source": [
    "print(cluster1, cluster2, cluster3)"
   ]
  },
  {
   "cell_type": "code",
   "execution_count": 6,
   "metadata": {
    "scrolled": true
   },
   "outputs": [
    {
     "name": "stdout",
     "output_type": "stream",
     "text": [
      "Coins in cluster2[0:4] are light. cluster2[0:4] has been crossed out(-). cluster1[0:4] has been crossed out(-).\n",
      "One of the cluster1[1:4] we received is fake.\n",
      "The heavier one, cluster1[2] is fake.\n"
     ]
    }
   ],
   "source": [
    "if sum(cluster1) == sum(cluster2) == sum(cluster3) == 4:\n",
    "    print(\"All is not fake.\")    \n",
    "elif sum(cluster1) == sum(cluster2) == sum(cluster3) != 4:\n",
    "    print(\"All is fake.\")    \n",
    "else:\n",
    "    if cluster1 == cluster2:\n",
    "        print(\"Eight coins are also real. The counterfeit coin is in the other set of four (cluster3).\")    \n",
    "        if cluster1[0:3] == cluster3[0:3]:\n",
    "            print(\"The remaining unsigned coin (cluster3[3]) must be fake.\")\n",
    "        else:        \n",
    "            if cluster3[0]==cluster3[1]:\n",
    "                print(\"The remaining coin, cluster3[2] is fake.\")\n",
    "            else:\n",
    "                if sum(cluster1[0:3]) < sum(cluster3[0:3]):\n",
    "                    print(\"cluster3[0:3] has been crossed out(+).\")\n",
    "                    if cluster3[0] == cluster3[1]:\n",
    "                        print(\"cluster3[2] is fake.\")\n",
    "                    else:\n",
    "                        print(\"The one heavier than the remaining 2 coins is fake.\")\n",
    "                        if cluster3[0] > cluster3[1]:\n",
    "                            print(\"cluster3[0] is fake.\")\n",
    "                        else:\n",
    "                            print(\"cluster3[1] is fake.\")                        \n",
    "                elif sum(cluster1[0:3]) > sum(cluster3[0:3]):\n",
    "                    print(\"cluster3[0:3] has been crossed out(-).\")\n",
    "                    if cluster3[0] == cluster3[1]:\n",
    "                        print(\"cluster3[2] is fake.\")\n",
    "                    else:\n",
    "                        print(\"The lighter than the remaining 2 coins is fake.\")\n",
    "                        if cluster3[0] < cluster3[1]:\n",
    "                            print(\"cluster3[0] is fake.\")\n",
    "                        else:\n",
    "                            print(\"cluster3[1] is fake.\")                        \n",
    "    elif cluster1 != cluster2:\n",
    "        if sum(cluster1[0:4]) < sum(cluster2[0:4]):\n",
    "            print(\"Coins in cluster1 [0:4] are light. cluster1[0:4] has been crossed out(-). cluster2[0:4] has been crossed out(+).\")\n",
    "            if cluster1[0]+cluster3[0]+cluster3[1]+cluster3[2] < cluster2[0]+cluster1[1]+cluster1[2]+cluster1[3]:\n",
    "                print(\"The previously heavy side in the balance still feels heavy. cluster1[0] is light coin, cluster2[0] is heavy coin.\")\n",
    "                if cluster1[0] < cluster3[0]:\n",
    "                    print(\"We substitute one of the ordinary coins for cluster1[0]. If the previously heavy part gets lighter, one of the cluster1[1:4] we taken is fake. It actually means it's lighter.\")\n",
    "                    if cluster3[0]+cluster3[0]+cluster3[1]+cluster3[2] > cluster2[0]+cluster1[1]+cluster1[2]+cluster1[3]:\n",
    "                        if cluster1[1] == cluster1[2]:\n",
    "                            print(\"cluster1[3] is fake.\")\n",
    "                        elif cluster1[1] < cluster1[2]:\n",
    "                            print(\"The lightweight, cluster1[1] is fake.\")                    \n",
    "                        else:\n",
    "                            print(\"The lightweight, cluster1[2] is fake.\")\n",
    "                else:\n",
    "                    print(\"cluster2[0] is fake.\")\n",
    "            elif cluster1[0]+cluster3[0]+cluster3[1]+cluster3[2] == cluster2[0]+cluster1[1]+cluster1[2]+cluster1[3]:\n",
    "                print(\"One of cluster2[1:4] we received is fake.\")\n",
    "                if cluster2[1] == cluster2[2]:\n",
    "                    print(\"cluster2[1] == cluster2[2] balance has been achieved. cluster2[3] is fake.\")\n",
    "                elif cluster2[1] < cluster2[2]:\n",
    "                    print(\"The heavier one, cluster2[2] is fake.\")\n",
    "                else:\n",
    "                    print(\"The heavier one, cluster2[1] is fake.\")                \n",
    "        elif sum(cluster1[0:4]) > sum(cluster2[0:4]):\n",
    "            print(\"Coins in cluster2[0:4] are light. cluster2[0:4] has been crossed out(-). cluster1[0:4] has been crossed out(-).\")\n",
    "            if cluster2[0]+cluster3[0]+cluster3[1]+cluster3[2] < cluster1[0]+cluster2[1]+cluster2[2]+cluster2[3]:\n",
    "                print(\"The previously heavy side in the balance still feels heavy. cluster2[0] is money that is light, cluster1[0] is money that is heavy.\")\n",
    "                if cluster2[0] < cluster3[0]:\n",
    "                    print(\"We substitute one of the ordinary coins for cluster1[0]. If the previously heavy part gets lighter, one of the cluster1 [1: 4] we taken is fake. It actually means it's lighter. \")\n",
    "                    if cluster3[0]+cluster3[0]+cluster3[1]+cluster3[2] > cluster1[0]+cluster2[1]+cluster2[2]+cluster2[3]:\n",
    "                        if cluster2[1] == cluster2[2]:\n",
    "                            print(\"cluster1[3] is fake.\")\n",
    "                        elif cluster2[1] < cluster2[2]:\n",
    "                            print(\"The light one, cluster1[1] is fake.\")\n",
    "                        else:\n",
    "                            print(\"The light one, cluster1[2] is fake.\")\n",
    "                else:\n",
    "                    print(\"cluster1[0] is fake.\")\n",
    "            elif cluster2[0]+cluster3[0]+cluster3[1]+cluster3[2] == cluster1[0]+cluster2[1]+cluster2[2]+cluster2[3]:\n",
    "                print(\"One of the cluster1[1:4] we received is fake.\")\n",
    "                if cluster1[1] == cluster1[2]:\n",
    "                    print(\"cluster1[1] == cluster1[2] balance has been achieved. cluster1[3] is fake.\")\n",
    "                elif cluster1[1] < cluster1[2]:\n",
    "                    print(\"The heavier one, cluster1[2] is fake.\")\n",
    "                else:\n",
    "                    print(\"The heavier one, cluster1[1] is fake.\")  \n",
    "        \n",
    "                    \n",
    "                    \n",
    "                    "
   ]
  },
  {
   "cell_type": "code",
   "execution_count": null,
   "metadata": {},
   "outputs": [],
   "source": []
  }
 ],
 "metadata": {
  "kernelspec": {
   "display_name": "Python 3",
   "language": "python",
   "name": "python3"
  },
  "language_info": {
   "codemirror_mode": {
    "name": "ipython",
    "version": 3
   },
   "file_extension": ".py",
   "mimetype": "text/x-python",
   "name": "python",
   "nbconvert_exporter": "python",
   "pygments_lexer": "ipython3",
   "version": "3.8.3"
  }
 },
 "nbformat": 4,
 "nbformat_minor": 4
}
