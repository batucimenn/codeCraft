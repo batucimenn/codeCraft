{
 "cells": [
  {
   "cell_type": "markdown",
   "metadata": {},
   "source": [
    "Is the result positive or negative when the elements in the random array are multiplied"
   ]
  },
  {
   "cell_type": "code",
   "execution_count": 1,
   "metadata": {},
   "outputs": [],
   "source": [
    "import random\n",
    "\n",
    "def Solution(x,y,z,t):\n",
    "    value = x*y*z*t\n",
    "    if value > 0:\n",
    "        print(\"A = \", A, \"The multiplication equals:\", value)\n",
    "        return print(\"Positive\")\n",
    "    elif value < 0:\n",
    "        print(\"A = \", A, \"The multiplication equals:\", value)\n",
    "        return print(\"Negative\")\n",
    "    else:\n",
    "        print(\"A = \", A, \"The multiplication equals:\", value)\n",
    "        return print(\"Zero\")\n",
    "    \n",
    "\n"
   ]
  },
  {
   "cell_type": "code",
   "execution_count": 2,
   "metadata": {},
   "outputs": [],
   "source": [
    "x = random.randrange(-1000, 1000)\n",
    "y = random.randrange(-1000, 1000)\n",
    "z = random.randrange(-1000, 1000)\n",
    "t = random.randrange(-1000, 1000)\n",
    "\n"
   ]
  },
  {
   "cell_type": "code",
   "execution_count": 3,
   "metadata": {},
   "outputs": [],
   "source": [
    "A = [x, y, z, t]"
   ]
  },
  {
   "cell_type": "code",
   "execution_count": 4,
   "metadata": {},
   "outputs": [
    {
     "name": "stdout",
     "output_type": "stream",
     "text": [
      "A =  [-740, 517, -508, -775] The multiplication equals: -150621746000\n",
      "Negative\n"
     ]
    }
   ],
   "source": [
    "Solution(x, y, z, t)"
   ]
  },
  {
   "cell_type": "code",
   "execution_count": null,
   "metadata": {},
   "outputs": [],
   "source": []
  }
 ],
 "metadata": {
  "kernelspec": {
   "display_name": "Python 3",
   "language": "python",
   "name": "python3"
  },
  "language_info": {
   "codemirror_mode": {
    "name": "ipython",
    "version": 3
   },
   "file_extension": ".py",
   "mimetype": "text/x-python",
   "name": "python",
   "nbconvert_exporter": "python",
   "pygments_lexer": "ipython3",
   "version": "3.8.3"
  }
 },
 "nbformat": 4,
 "nbformat_minor": 4
}
