{
 "cells": [
  {
   "cell_type": "markdown",
   "metadata": {},
   "source": [
    "Make simple calculator"
   ]
  },
  {
   "cell_type": "code",
   "execution_count": 1,
   "metadata": {},
   "outputs": [
    {
     "name": "stdout",
     "output_type": "stream",
     "text": [
      "First number: 10\n"
     ]
    }
   ],
   "source": [
    "num1 = float(input(\"First number: \"))"
   ]
  },
  {
   "cell_type": "code",
   "execution_count": 2,
   "metadata": {},
   "outputs": [
    {
     "name": "stdout",
     "output_type": "stream",
     "text": [
      "Second number: 5\n"
     ]
    }
   ],
   "source": [
    "num2 = float(input(\"Second number: \"))"
   ]
  },
  {
   "cell_type": "code",
   "execution_count": 3,
   "metadata": {},
   "outputs": [
    {
     "name": "stdout",
     "output_type": "stream",
     "text": [
      "Press 1 for Addition, 2 for Subtraction, 3 for Multiplication, 4 for Division: 1\n"
     ]
    }
   ],
   "source": [
    "select = int(input(\"Press 1 for Addition, 2 for Subtraction, 3 for Multiplication, 4 for Division: \"))"
   ]
  },
  {
   "cell_type": "code",
   "execution_count": 4,
   "metadata": {},
   "outputs": [
    {
     "name": "stdout",
     "output_type": "stream",
     "text": [
      "15.0\n"
     ]
    }
   ],
   "source": [
    "if select == 1:\n",
    "    addition = num1 + num2\n",
    "    print(addition)\n",
    "elif select == 2:\n",
    "    subtraction = num1 - num2\n",
    "    print(subtraction)\n",
    "elif select == 3:\n",
    "    multiplication = num1 * num2\n",
    "    print(multiplication)\n",
    "elif select == 4:\n",
    "    division = num1 / num2\n",
    "    print(division)"
   ]
  },
  {
   "cell_type": "code",
   "execution_count": null,
   "metadata": {},
   "outputs": [],
   "source": []
  }
 ],
 "metadata": {
  "kernelspec": {
   "display_name": "Python 3",
   "language": "python",
   "name": "python3"
  },
  "language_info": {
   "codemirror_mode": {
    "name": "ipython",
    "version": 3
   },
   "file_extension": ".py",
   "mimetype": "text/x-python",
   "name": "python",
   "nbconvert_exporter": "python",
   "pygments_lexer": "ipython3",
   "version": "3.8.3"
  }
 },
 "nbformat": 4,
 "nbformat_minor": 4
}
