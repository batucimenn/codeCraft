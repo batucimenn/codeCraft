{
 "cells": [
  {
   "cell_type": "markdown",
   "metadata": {},
   "source": [
    "Write a program to read the mbox-short.txt file and find out who sent the most email messages. The program searches for \"From\" lines and receives the second word of these lines as the sender of the mail. The program creates a Python dictionary that maps the sender's mail address to the number of appearances in the file. After the dictionary is created, the program reads it from the dictionary using the maximum loop to find the most productive recorder."
   ]
  },
  {
   "cell_type": "code",
   "execution_count": 1,
   "metadata": {},
   "outputs": [
    {
     "name": "stdout",
     "output_type": "stream",
     "text": [
      "Enter file:\n",
      "cwen@iupui.edu 5\n"
     ]
    }
   ],
   "source": [
    "name = input(\"Enter file:\")\n",
    "if len(name) < 1 : \n",
    "    name = \"mbox-short2.txt\"\n",
    "handle = open(name)\n",
    "wordList=[]\n",
    "maxCounter = None\n",
    "maxWord =None\n",
    "for line in handle:\n",
    "    line = line.strip()\n",
    "    if not line.startswith(\"From \"): continue\n",
    "    words = line.split()\n",
    "    wordList.append(words[1])\n",
    "    wordCounter={}\n",
    "    for i in wordList:\n",
    "        if i not in wordCounter:\n",
    "            wordCounter[i] = 1\n",
    "        else:\n",
    "            wordCounter[i] += 1\n",
    "for mail, count in wordCounter.items():\n",
    "    if maxCounter is None or count > maxCounter:\n",
    "        maxWord = mail\n",
    "        maxCounter = count\n",
    "print(maxWord,maxCounter)\n"
   ]
  },
  {
   "cell_type": "code",
   "execution_count": null,
   "metadata": {},
   "outputs": [],
   "source": []
  }
 ],
 "metadata": {
  "kernelspec": {
   "display_name": "Python 3",
   "language": "python",
   "name": "python3"
  },
  "language_info": {
   "codemirror_mode": {
    "name": "ipython",
    "version": 3
   },
   "file_extension": ".py",
   "mimetype": "text/x-python",
   "name": "python",
   "nbconvert_exporter": "python",
   "pygments_lexer": "ipython3",
   "version": "3.8.3"
  }
 },
 "nbformat": 4,
 "nbformat_minor": 4
}
